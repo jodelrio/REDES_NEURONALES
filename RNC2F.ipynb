{
 "cells": [
  {
   "attachments": {},
   "cell_type": "markdown",
   "metadata": {},
   "source": [
    "# Importación de frameworks de tensorflow y numpy."
   ]
  },
  {
   "cell_type": "code",
   "execution_count": 1,
   "metadata": {},
   "outputs": [],
   "source": [
    "import tensorflow as tf\n",
    "import numpy as np"
   ]
  },
  {
   "attachments": {},
   "cell_type": "markdown",
   "metadata": {},
   "source": [
    "# Arreglos de números donde se colocan los datos de entrada de celcius y los resultados de fahrenheit."
   ]
  },
  {
   "cell_type": "code",
   "execution_count": 2,
   "metadata": {},
   "outputs": [],
   "source": [
    "celsius = np.array([-40, -10, 0, 8, 15, 22, 38], dtype = float)\n",
    "fahrenheit = np.array([-40, 14, 32, 46, 59, 72, 100], dtype = float)"
   ]
  },
  {
   "attachments": {},
   "cell_type": "markdown",
   "metadata": {},
   "source": [
    "### Definición de capas\n",
    "\n",
    "«tf.keras.layers.Dense» Hace referencia que define una capa de tipo densa. (Las capas de tipo densa significan que cada neurona de una capa, tienen conexiones a todas las neuronas de la siguiente capa).\n",
    "\n",
    "«units = 1» Hace referencia que hay una neurona de salida.\n",
    "\n",
    "«input_shape = [1]» Significa que hay una capa de entrada con una sola neurona.\n",
    "\n",
    "«modelo = tf.keras.Sequential([capa])» Definición de modelo de capa secuencial, asignado a nuestra variable «capa»."
   ]
  },
  {
   "cell_type": "code",
   "execution_count": 3,
   "metadata": {},
   "outputs": [],
   "source": [
    "capa = tf.keras.layers.Dense(units = 1, input_shape = [1])\n",
    "modelo = tf.keras.Sequential([capa])"
   ]
  },
  {
   "attachments": {},
   "cell_type": "markdown",
   "metadata": {},
   "source": [
    "# Definición del optimizador y función de perdida\n",
    "\n",
    "Para el optimizador se utiliza el algoritmo Adam (Adam es un algoritmo de optimización que se puede utilizar en lugar del procedimiento de descenso de gradiente para actualizar los pesos de red de forma automática), en este caso se le asigna el valor de 0.1, porque poco puede hacer lenta la red, y mucho, pasarse del resultado esperado."
   ]
  },
  {
   "cell_type": "code",
   "execution_count": 4,
   "metadata": {},
   "outputs": [],
   "source": [
    "modelo.compile(\n",
    "    optimizer = tf.keras.optimizers.Adam(0.1),\n",
    "    loss = 'mean_squared_error'\n",
    ")"
   ]
  },
  {
   "attachments": {},
   "cell_type": "markdown",
   "metadata": {},
   "source": [
    "# Entrenamiento\n",
    "\n",
    "Se utiliza la función «.fit» sobre el modelo, ejemplo «modelo.fit» especificando los datos de entrada (En este caso la lista celcius) y los datos de salida (En este caso fahrenheit), luego se definen las épocas por las que iterará, con la función «epochs = valor» y para solo imprimir lo esencial se utiliza «verbose = False»"
   ]
  },
  {
   "cell_type": "code",
   "execution_count": 5,
   "metadata": {},
   "outputs": [
    {
     "name": "stdout",
     "output_type": "stream",
     "text": [
      "Entrenamiento...\n",
      "Modelo entrenado\n"
     ]
    }
   ],
   "source": [
    "print(\"Entrenamiento...\")\n",
    "historial = modelo.fit(celsius, fahrenheit, epochs = 1000, verbose = False)\n",
    "print(\"Modelo entrenado\")"
   ]
  },
  {
   "attachments": {},
   "cell_type": "markdown",
   "metadata": {},
   "source": [
    "# Imprimir los resultados de la función de perdida\n",
    "\n",
    "(Qué tan mal están los resultados en cada iteración de aprendizaje en las épocas)"
   ]
  },
  {
   "cell_type": "code",
   "execution_count": 6,
   "metadata": {},
   "outputs": [
    {
     "data": {
      "text/plain": [
       "[<matplotlib.lines.Line2D at 0x1de4a7cf610>]"
      ]
     },
     "execution_count": 6,
     "metadata": {},
     "output_type": "execute_result"
    },
    {
     "data": {
      "image/png": "[encoded data removed]",
      "text/plain": [
       "<Figure size 640x480 with 1 Axes>"
      ]
     },
     "metadata": {},
     "output_type": "display_data"
    }
   ],
   "source": [
    "import matplotlib.pyplot as plt\n",
    "plt.xlabel(\"# Epoca\")\n",
    "plt.ylabel(\"Magnitud de pérdida\")\n",
    "plt.plot(historial.history[\"loss\"])"
   ]
  },
  {
   "attachments": {},
   "cell_type": "markdown",
   "metadata": {},
   "source": [
    "import matplotlib.pyplot as plt\n",
    "plt.xlabel(\"# Epoca\")\n",
    "plt.ylabel(\"Magnitud de pérdida\")\n",
    "plt.plot(historial.history[\"loss\"])"
   ]
  },
  {
   "cell_type": "code",
   "execution_count": 7,
   "metadata": {},
   "outputs": [
    {
     "name": "stdout",
     "output_type": "stream",
     "text": [
      "Hagamos una predicción\n",
      "1/1 [==============================] - 0s 227ms/step\n",
      "El resultado es[[211.7409]]fahrenheit\n"
     ]
    }
   ],
   "source": [
    "print(\"Hagamos una predicción\")\n",
    "resultado = modelo.predict([100.0])\n",
    "print(\"El resultado es\"+ str(resultado) + \"fahrenheit\")"
   ]
  },
  {
   "attachments": {},
   "cell_type": "markdown",
   "metadata": {},
   "source": [
    "# ¿Cómo ver el peso y el sesgo?\n"
   ]
  },
  {
   "cell_type": "code",
   "execution_count": 8,
   "metadata": {},
   "outputs": [
    {
     "name": "stdout",
     "output_type": "stream",
     "text": [
      "variable interna del modelo\n",
      "[array([[1.7983705]], dtype=float32), array([31.903847], dtype=float32)]\n"
     ]
    }
   ],
   "source": [
    "print(\"variable interna del modelo\")\n",
    "print(capa.get_weights())"
   ]
  }
 ],
 "metadata": {
  "kernelspec": {
   "display_name": "Python 3",
   "language": "python",
   "name": "python3"
  },
  "language_info": {
   "codemirror_mode": {
    "name": "ipython",
    "version": 3
   },
   "file_extension": ".py",
   "mimetype": "text/x-python",
   "name": "python",
   "nbconvert_exporter": "python",
   "pygments_lexer": "ipython3",
   "version": "3.11.4"
  },
  "orig_nbformat": 4
 },
 "nbformat": 4,
 "nbformat_minor": 2
}
