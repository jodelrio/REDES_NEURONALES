{
  "nbformat": 4,
  "nbformat_minor": 0,
  "metadata": {
    "colab": {
      "provenance": [],
      "authorship_tag": "ABX9TyMUJU5uVunfbat5NsnZjwBG",
      "include_colab_link": true
    },
    "kernelspec": {
      "name": "python3",
      "display_name": "Python 3"
    },
    "language_info": {
      "name": "python"
    }
  },
  "cells": [
    {
      "cell_type": "markdown",
      "metadata": {
        "id": "view-in-github",
        "colab_type": "text"
      },
      "source": [
        "<a href=\"https://colab.research.google.com/github/jodelrio/REDES_NEURONALES/blob/main/Rncf_ConInput.ipynb\" target=\"_parent\"><img src=\"https://colab.research.google.com/assets/colab-badge.svg\" alt=\"Open In Colab\"/></a>"
      ]
    },
    {
      "cell_type": "code",
      "source": [
        "import numpy as np\n",
        "import tensorflow as tf\n",
        "\n",
        "# Input data\n",
        "celsius = np.array([-40, -10, 0, 8, 15, 22, 38], dtype=float)\n",
        "fahrenheit = np.array([-40, 14, 32, 46, 59, 72, 100], dtype=float)\n",
        "\n",
        "# Create a model with one layer\n",
        "model = tf.keras.Sequential([\n",
        "    tf.keras.layers.Dense(units=1, input_shape=[1])\n",
        "])\n",
        "\n",
        "# Compile the model\n",
        "model.compile(loss='mean_squared_error', optimizer=tf.keras.optimizers.Adam(1))\n",
        "\n",
        "# Train the model\n",
        "history = model.fit(celsius, fahrenheit, epochs=500, verbose=0)\n",
        "\n",
        "# Predict the conversion for a new value\n",
        "celsius_value = float(input(\"ingrese la temperatura en grados Celsius por favor:\"))\n",
        "fahrenheit_value = model.predict([celsius_value])\n",
        "print(f\"The predicted Fahrenheit value for {celsius_value} degrees Celsius is {fahrenheit_value} degrees Fahrenheit.\")\n"
      ],
      "metadata": {
        "id": "Bi-wWsWtISyC",
        "outputId": "304efef1-7e12-43a2-b535-f7da2800358e",
        "colab": {
          "base_uri": "https://localhost:8080/"
        }
      },
      "execution_count": 2,
      "outputs": [
        {
          "output_type": "stream",
          "name": "stdout",
          "text": [
            "ingrese la temperatura en grados Celsius por favor:32.5\n",
            "1/1 [==============================] - 0s 92ms/step\n",
            "The predicted Fahrenheit value for 32.5 degrees Celsius is [[90.38587]] degrees Fahrenheit.\n"
          ]
        }
      ]
    }
  ]
}